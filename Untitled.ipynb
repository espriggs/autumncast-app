{
 "cells": [
  {
   "cell_type": "code",
   "execution_count": 2,
   "metadata": {},
   "outputs": [],
   "source": [
    "import pandas as pd\n",
    "import numpy as np\n",
    "import seaborn as sns\n",
    "from sklearn.linear_model import LogisticRegression\n",
    "from sklearn import metrics\n",
    "import matplotlib.pyplot as plt"
   ]
  },
  {
   "cell_type": "code",
   "execution_count": 31,
   "metadata": {},
   "outputs": [
    {
     "name": "stdout",
     "output_type": "stream",
     "text": [
      "             City   Latitude  Longitude\n",
      "0   Cambridge, MA  42.375100 -71.105616\n",
      "1  Providence, RI  41.823989 -71.412834\n",
      "2         Lee, MA  42.304254 -73.248162\n",
      "3   Baxter, Maine  46.015724 -68.954700\n",
      "4  Burlington, VT  44.476298 -73.213547\n",
      "5     Hanover, NH  43.703622 -72.288666\n"
     ]
    },
    {
     "data": {
      "text/plain": [
       "float"
      ]
     },
     "execution_count": 31,
     "metadata": {},
     "output_type": "execute_result"
    }
   ],
   "source": [
    "user_input = 'Providence, RI'\n",
    "city_list = pd.read_csv('backup_city_list.csv', sep='\\t')\n",
    "print(city_list)\n",
    "x = city_list[city_list.City == user_input].Latitude\n",
    "#y = city_list[city_list.City == user_input].Longitude[0]\n",
    "type(float(x))"
   ]
  },
  {
   "cell_type": "code",
   "execution_count": 62,
   "metadata": {},
   "outputs": [
    {
     "data": {
      "text/plain": [
       "float"
      ]
     },
     "execution_count": 62,
     "metadata": {},
     "output_type": "execute_result"
    }
   ],
   "source": [
    "from geopy.geocoders import Nominatim\n",
    "geolocator = Nominatim(user_agent=\"my-application\")\n",
    "location = geolocator.geocode('Sherril, NY')\n",
    "#print('Coordinates: ', location.latitude, location.longitude)\n",
    "x = location.longitude\n",
    "y = location.latitude\n",
    "type(x)"
   ]
  },
  {
   "cell_type": "code",
   "execution_count": 63,
   "metadata": {},
   "outputs": [
    {
     "data": {
      "text/plain": [
       "0"
      ]
     },
     "execution_count": 63,
     "metadata": {},
     "output_type": "execute_result"
    }
   ],
   "source": [
    "import re\n",
    "states = ['Rhode', 'Connecticut']\n",
    "r = re.compile(r'\\bRhode\\b | \\bConnecticut\\b | \\bMaine\\b | \\bHampshire\\b | \\bVermont\\b | \\bMassachusetts\\b', flags=re.I | re.X)\n",
    "found = r.findall(str(location))\n",
    "len(found) >= 0"
   ]
  },
  {
   "cell_type": "code",
   "execution_count": null,
   "metadata": {},
   "outputs": [],
   "source": []
  }
 ],
 "metadata": {
  "kernelspec": {
   "display_name": "Python 3",
   "language": "python",
   "name": "python3"
  },
  "language_info": {
   "codemirror_mode": {
    "name": "ipython",
    "version": 3
   },
   "file_extension": ".py",
   "mimetype": "text/x-python",
   "name": "python",
   "nbconvert_exporter": "python",
   "pygments_lexer": "ipython3",
   "version": "3.7.6"
  }
 },
 "nbformat": 4,
 "nbformat_minor": 4
}
